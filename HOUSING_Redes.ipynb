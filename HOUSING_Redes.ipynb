{
  "nbformat": 4,
  "nbformat_minor": 0,
  "metadata": {
    "colab": {
      "name": "HOUSING_Redes.ipynb",
      "provenance": [],
      "authorship_tag": "ABX9TyPp30whD9EZtcQEII4NxyhG",
      "include_colab_link": true
    },
    "kernelspec": {
      "name": "python3",
      "display_name": "Python 3"
    }
  },
  "cells": [
    {
      "cell_type": "markdown",
      "metadata": {
        "id": "view-in-github",
        "colab_type": "text"
      },
      "source": [
        "<a href=\"https://colab.research.google.com/github/diefgallegorio/Entrega-MLP-housing/blob/master/HOUSING_Redes.ipynb\" target=\"_parent\"><img src=\"https://colab.research.google.com/assets/colab-badge.svg\" alt=\"Open In Colab\"/></a>"
      ]
    },
    {
      "cell_type": "markdown",
      "metadata": {
        "id": "HfKocFlrHDdO",
        "colab_type": "text"
      },
      "source": [
        "# **MLP HOUSING**"
      ]
    },
    {
      "cell_type": "markdown",
      "metadata": {
        "id": "WmIvDLVBHYV2",
        "colab_type": "text"
      },
      "source": [
        "Instalo Tensorflow y keras"
      ]
    },
    {
      "cell_type": "code",
      "metadata": {
        "id": "7TpQxtU6F5P1",
        "colab_type": "code",
        "outputId": "db9a3e43-02af-40bb-855a-958e111d06c9",
        "colab": {
          "base_uri": "https://localhost:8080/",
          "height": 490
        }
      },
      "source": [
        "!pip install tensorflow==2.0.0-alpha0\n",
        "# !pip install --upgrade tensorflow\n",
        "# !pip install -U tensorflow-gpu==2.0.0 grpcio\n",
        "!pip install --upgrade keras"
      ],
      "execution_count": 24,
      "outputs": [
        {
          "output_type": "stream",
          "text": [
            "Requirement already satisfied: tensorflow==2.0.0-alpha0 in /usr/local/lib/python3.6/dist-packages (2.0.0a0)\n",
            "Requirement already satisfied: tb-nightly<1.14.0a20190302,>=1.14.0a20190301 in /usr/local/lib/python3.6/dist-packages (from tensorflow==2.0.0-alpha0) (1.14.0a20190301)\n",
            "Requirement already satisfied: termcolor>=1.1.0 in /usr/local/lib/python3.6/dist-packages (from tensorflow==2.0.0-alpha0) (1.1.0)\n",
            "Requirement already satisfied: google-pasta>=0.1.2 in /usr/local/lib/python3.6/dist-packages (from tensorflow==2.0.0-alpha0) (0.1.8)\n",
            "Requirement already satisfied: numpy<2.0,>=1.14.5 in /usr/local/lib/python3.6/dist-packages (from tensorflow==2.0.0-alpha0) (1.17.5)\n",
            "Requirement already satisfied: gast>=0.2.0 in /usr/local/lib/python3.6/dist-packages (from tensorflow==2.0.0-alpha0) (0.2.2)\n",
            "Requirement already satisfied: tf-estimator-nightly<1.14.0.dev2019030116,>=1.14.0.dev2019030115 in /usr/local/lib/python3.6/dist-packages (from tensorflow==2.0.0-alpha0) (1.14.0.dev2019030115)\n",
            "Requirement already satisfied: keras-applications>=1.0.6 in /usr/local/lib/python3.6/dist-packages (from tensorflow==2.0.0-alpha0) (1.0.8)\n",
            "Requirement already satisfied: protobuf>=3.6.1 in /usr/local/lib/python3.6/dist-packages (from tensorflow==2.0.0-alpha0) (3.10.0)\n",
            "Requirement already satisfied: wheel>=0.26 in /usr/local/lib/python3.6/dist-packages (from tensorflow==2.0.0-alpha0) (0.34.2)\n",
            "Requirement already satisfied: keras-preprocessing>=1.0.5 in /usr/local/lib/python3.6/dist-packages (from tensorflow==2.0.0-alpha0) (1.1.0)\n",
            "Requirement already satisfied: absl-py>=0.7.0 in /usr/local/lib/python3.6/dist-packages (from tensorflow==2.0.0-alpha0) (0.9.0)\n",
            "Requirement already satisfied: grpcio>=1.8.6 in /usr/local/lib/python3.6/dist-packages (from tensorflow==2.0.0-alpha0) (1.27.1)\n",
            "Requirement already satisfied: astor>=0.6.0 in /usr/local/lib/python3.6/dist-packages (from tensorflow==2.0.0-alpha0) (0.8.1)\n",
            "Requirement already satisfied: six>=1.10.0 in /usr/local/lib/python3.6/dist-packages (from tensorflow==2.0.0-alpha0) (1.12.0)\n",
            "Requirement already satisfied: werkzeug>=0.11.15 in /usr/local/lib/python3.6/dist-packages (from tb-nightly<1.14.0a20190302,>=1.14.0a20190301->tensorflow==2.0.0-alpha0) (1.0.0)\n",
            "Requirement already satisfied: markdown>=2.6.8 in /usr/local/lib/python3.6/dist-packages (from tb-nightly<1.14.0a20190302,>=1.14.0a20190301->tensorflow==2.0.0-alpha0) (3.2)\n",
            "Requirement already satisfied: h5py in /usr/local/lib/python3.6/dist-packages (from keras-applications>=1.0.6->tensorflow==2.0.0-alpha0) (2.8.0)\n",
            "Requirement already satisfied: setuptools in /usr/local/lib/python3.6/dist-packages (from protobuf>=3.6.1->tensorflow==2.0.0-alpha0) (45.1.0)\n",
            "Requirement already up-to-date: keras in /usr/local/lib/python3.6/dist-packages (2.3.1)\n",
            "Requirement already satisfied, skipping upgrade: numpy>=1.9.1 in /usr/local/lib/python3.6/dist-packages (from keras) (1.17.5)\n",
            "Requirement already satisfied, skipping upgrade: six>=1.9.0 in /usr/local/lib/python3.6/dist-packages (from keras) (1.12.0)\n",
            "Requirement already satisfied, skipping upgrade: keras-preprocessing>=1.0.5 in /usr/local/lib/python3.6/dist-packages (from keras) (1.1.0)\n",
            "Requirement already satisfied, skipping upgrade: keras-applications>=1.0.6 in /usr/local/lib/python3.6/dist-packages (from keras) (1.0.8)\n",
            "Requirement already satisfied, skipping upgrade: pyyaml in /usr/local/lib/python3.6/dist-packages (from keras) (3.13)\n",
            "Requirement already satisfied, skipping upgrade: scipy>=0.14 in /usr/local/lib/python3.6/dist-packages (from keras) (1.4.1)\n",
            "Requirement already satisfied, skipping upgrade: h5py in /usr/local/lib/python3.6/dist-packages (from keras) (2.8.0)\n"
          ],
          "name": "stdout"
        }
      ]
    },
    {
      "cell_type": "markdown",
      "metadata": {
        "id": "NQssG4AXHexW",
        "colab_type": "text"
      },
      "source": [
        "### Importo desde Drive base de datos y archivo de funciones para el pre-procesamiento"
      ]
    },
    {
      "cell_type": "code",
      "metadata": {
        "id": "-fxGpw_lGHp2",
        "colab_type": "code",
        "outputId": "2aaf6fc7-6b9a-42a1-a928-cfb3ecd94cc1",
        "colab": {
          "base_uri": "https://localhost:8080/",
          "height": 195
        }
      },
      "source": [
        "import pandas as pd\n",
        "import numpy as np\n",
        "import matplotlib.pyplot as plt\n",
        "import warnings\n",
        "warnings.filterwarnings(\"ignore\")\n",
        "\n",
        "import tensorflow as tf\n",
        "from tensorflow import keras\n",
        "\n",
        "# para acceder a archivos desde google drive en google colaboratory\n",
        "# acceso a google drive\n",
        "from pydrive.auth import GoogleAuth\n",
        "from pydrive.drive import GoogleDrive\n",
        "from google.colab import auth\n",
        "from oauth2client.client import GoogleCredentials\n",
        "\n",
        "auth.authenticate_user()\n",
        "gauth = GoogleAuth()\n",
        "gauth.credentials = GoogleCredentials.get_application_default()\n",
        "drive = GoogleDrive(gauth)\n",
        "\n",
        "#Importo base de datos housing\n",
        "\n",
        "housing = '1ruQwtMNWfV2zXdntUSPUsjk2fUrskhHM'\n",
        "downloaded = drive.CreateFile({'id': housing})\n",
        "downloaded.GetContentFile('housing.csv') \n",
        "\n",
        "#Importo archivo de funciones para housing\n",
        "\n",
        "Funciones = '1TIzuOdjhgFsE3maEH88THxIWGiP8fU5t'\n",
        "downloaded = drive.CreateFile({'id': Funciones})\n",
        "downloaded.GetContentFile('Funciones.py') \n",
        "\n",
        "#Importo la función declarada en el archivo externo\n",
        "\n",
        "from Funciones import pre_exploratorio_housing\n",
        "\n",
        "#Con pandas leo la base de datos y pruebo que cargue adecuadamente\n",
        "Xdata = pd.read_csv('housing.csv')\n",
        "Xdata.head()"
      ],
      "execution_count": 25,
      "outputs": [
        {
          "output_type": "execute_result",
          "data": {
            "text/html": [
              "<div>\n",
              "<style scoped>\n",
              "    .dataframe tbody tr th:only-of-type {\n",
              "        vertical-align: middle;\n",
              "    }\n",
              "\n",
              "    .dataframe tbody tr th {\n",
              "        vertical-align: top;\n",
              "    }\n",
              "\n",
              "    .dataframe thead th {\n",
              "        text-align: right;\n",
              "    }\n",
              "</style>\n",
              "<table border=\"1\" class=\"dataframe\">\n",
              "  <thead>\n",
              "    <tr style=\"text-align: right;\">\n",
              "      <th></th>\n",
              "      <th>longitude</th>\n",
              "      <th>latitude</th>\n",
              "      <th>housing_median_age</th>\n",
              "      <th>total_rooms</th>\n",
              "      <th>total_bedrooms</th>\n",
              "      <th>population</th>\n",
              "      <th>households</th>\n",
              "      <th>median_income</th>\n",
              "      <th>median_house_value</th>\n",
              "      <th>ocean_proximity</th>\n",
              "    </tr>\n",
              "  </thead>\n",
              "  <tbody>\n",
              "    <tr>\n",
              "      <th>0</th>\n",
              "      <td>-122.23</td>\n",
              "      <td>37.88</td>\n",
              "      <td>41.0</td>\n",
              "      <td>880.0</td>\n",
              "      <td>129.0</td>\n",
              "      <td>322.0</td>\n",
              "      <td>126.0</td>\n",
              "      <td>8.3252</td>\n",
              "      <td>452600.0</td>\n",
              "      <td>NEAR BAY</td>\n",
              "    </tr>\n",
              "    <tr>\n",
              "      <th>1</th>\n",
              "      <td>-122.22</td>\n",
              "      <td>37.86</td>\n",
              "      <td>21.0</td>\n",
              "      <td>7099.0</td>\n",
              "      <td>1106.0</td>\n",
              "      <td>2401.0</td>\n",
              "      <td>1138.0</td>\n",
              "      <td>8.3014</td>\n",
              "      <td>358500.0</td>\n",
              "      <td>NEAR BAY</td>\n",
              "    </tr>\n",
              "    <tr>\n",
              "      <th>2</th>\n",
              "      <td>-122.24</td>\n",
              "      <td>37.85</td>\n",
              "      <td>52.0</td>\n",
              "      <td>1467.0</td>\n",
              "      <td>190.0</td>\n",
              "      <td>496.0</td>\n",
              "      <td>177.0</td>\n",
              "      <td>7.2574</td>\n",
              "      <td>352100.0</td>\n",
              "      <td>NEAR BAY</td>\n",
              "    </tr>\n",
              "    <tr>\n",
              "      <th>3</th>\n",
              "      <td>-122.25</td>\n",
              "      <td>37.85</td>\n",
              "      <td>52.0</td>\n",
              "      <td>1274.0</td>\n",
              "      <td>235.0</td>\n",
              "      <td>558.0</td>\n",
              "      <td>219.0</td>\n",
              "      <td>5.6431</td>\n",
              "      <td>341300.0</td>\n",
              "      <td>NEAR BAY</td>\n",
              "    </tr>\n",
              "    <tr>\n",
              "      <th>4</th>\n",
              "      <td>-122.25</td>\n",
              "      <td>37.85</td>\n",
              "      <td>52.0</td>\n",
              "      <td>1627.0</td>\n",
              "      <td>280.0</td>\n",
              "      <td>565.0</td>\n",
              "      <td>259.0</td>\n",
              "      <td>3.8462</td>\n",
              "      <td>342200.0</td>\n",
              "      <td>NEAR BAY</td>\n",
              "    </tr>\n",
              "  </tbody>\n",
              "</table>\n",
              "</div>"
            ],
            "text/plain": [
              "   longitude  latitude  ...  median_house_value  ocean_proximity\n",
              "0    -122.23     37.88  ...            452600.0         NEAR BAY\n",
              "1    -122.22     37.86  ...            358500.0         NEAR BAY\n",
              "2    -122.24     37.85  ...            352100.0         NEAR BAY\n",
              "3    -122.25     37.85  ...            341300.0         NEAR BAY\n",
              "4    -122.25     37.85  ...            342200.0         NEAR BAY\n",
              "\n",
              "[5 rows x 10 columns]"
            ]
          },
          "metadata": {
            "tags": []
          },
          "execution_count": 25
        }
      ]
    },
    {
      "cell_type": "markdown",
      "metadata": {
        "id": "tYA-qXaIH_Q-",
        "colab_type": "text"
      },
      "source": [
        "## Divido el dataset en uno de test y otro de entrenamiento, este ultimo a la vez se divide en uno de validación y otro de entrenamiento"
      ]
    },
    {
      "cell_type": "code",
      "metadata": {
        "id": "3w_lfK_9GqOz",
        "colab_type": "code",
        "colab": {}
      },
      "source": [
        "from sklearn.model_selection import train_test_split\n",
        "\n",
        "XtrainCompleto, Xtest = train_test_split(Xdata, test_size=0.3)\n",
        "Xtrain, Xvalid = train_test_split(XtrainCompleto, test_size=0.3)\n",
        "# Xtrain.head()"
      ],
      "execution_count": 0,
      "outputs": []
    },
    {
      "cell_type": "markdown",
      "metadata": {
        "id": "EbLetOTKJJgQ",
        "colab_type": "text"
      },
      "source": [
        "### Aplico pre-procesamiento all dataset de entrenamiento y validación"
      ]
    },
    {
      "cell_type": "code",
      "metadata": {
        "id": "8lJ713-NI0ON",
        "colab_type": "code",
        "colab": {}
      },
      "source": [
        "from sklearn.impute import SimpleImputer\n",
        "from sklearn.preprocessing import OneHotEncoder\n",
        "from sklearn.preprocessing import StandardScaler\n",
        "from sklearn.decomposition import PCA\n",
        "from sklearn.preprocessing import OrdinalEncoder\n",
        "\n",
        "#Separo columna de salida, categórigas y numericas\n",
        "col_sal='median_house_value'\n",
        "col_num=['longitude','latitude','housing_median_age','total_rooms','total_bedrooms',\n",
        "        'population','households','median_income']\n",
        "col_cat=['ocean_proximity']\n",
        "\n",
        "#Llamo función de pre_exploratorio para completar campos nulos\n",
        "Xtrain, Ytrain= pre_exploratorio_housing(Xtrain,col_sal,col_num,col_cat,estra_num='median',estra_cat='most_frequent')\n",
        "\n",
        "#Categorizo\n",
        "codificador = OrdinalEncoder()\n",
        "Xtrain['ocean_proximity'].value_counts()\n",
        "Xtrain['ocean_proximity'] = codificador.fit_transform(Xtrain[['ocean_proximity']])"
      ],
      "execution_count": 0,
      "outputs": []
    },
    {
      "cell_type": "code",
      "metadata": {
        "id": "k6XLlCPFJkvR",
        "colab_type": "code",
        "colab": {}
      },
      "source": [
        "Xvalid, Yvalid= pre_exploratorio_housing(Xvalid,col_sal,col_num,col_cat,estra_num='median',estra_cat='most_frequent')\n",
        "\n",
        "Xvalid['ocean_proximity'].value_counts()\n",
        "Xvalid['ocean_proximity'] = codificador.fit_transform(Xvalid[['ocean_proximity']])"
      ],
      "execution_count": 0,
      "outputs": []
    },
    {
      "cell_type": "code",
      "metadata": {
        "id": "3qRLLOG9KhRF",
        "colab_type": "code",
        "outputId": "971514cd-b9f7-4326-f97e-680c22abcf27",
        "colab": {
          "base_uri": "https://localhost:8080/",
          "height": 50
        }
      },
      "source": [
        "print(\"Xtrain\", Xtrain.shape)\n",
        "print(\"Xvalid\", Xvalid.shape)"
      ],
      "execution_count": 29,
      "outputs": [
        {
          "output_type": "stream",
          "text": [
            "Xtrain (10113, 9)\n",
            "Xvalid (4335, 9)\n"
          ],
          "name": "stdout"
        }
      ]
    },
    {
      "cell_type": "markdown",
      "metadata": {
        "id": "NxXzgjy2LPtB",
        "colab_type": "text"
      },
      "source": [
        "## Creo la red densa y la preparo para entrenarla"
      ]
    },
    {
      "cell_type": "code",
      "metadata": {
        "id": "3A_vXmI3Jm1y",
        "colab_type": "code",
        "colab": {}
      },
      "source": [
        "model = keras.models.Sequential([\n",
        "    keras.layers.Dense(50, input_shape=(9,), activation=\"tanh\"),\n",
        "    keras .layers.Dense(10, activation=\"relu\"),\n",
        "    keras.layers.Dense(1)\n",
        "])"
      ],
      "execution_count": 0,
      "outputs": []
    },
    {
      "cell_type": "code",
      "metadata": {
        "id": "btP4xrsrKfvM",
        "colab_type": "code",
        "outputId": "8ef276ab-c093-48be-91f8-49f944a86712",
        "colab": {
          "base_uri": "https://localhost:8080/",
          "height": 252
        }
      },
      "source": [
        "model.summary()"
      ],
      "execution_count": 38,
      "outputs": [
        {
          "output_type": "stream",
          "text": [
            "Model: \"sequential_2\"\n",
            "_________________________________________________________________\n",
            "Layer (type)                 Output Shape              Param #   \n",
            "=================================================================\n",
            "dense_7 (Dense)              (None, 50)                500       \n",
            "_________________________________________________________________\n",
            "dense_8 (Dense)              (None, 10)                510       \n",
            "_________________________________________________________________\n",
            "dense_9 (Dense)              (None, 1)                 11        \n",
            "=================================================================\n",
            "Total params: 1,021\n",
            "Trainable params: 1,021\n",
            "Non-trainable params: 0\n",
            "_________________________________________________________________\n"
          ],
          "name": "stdout"
        }
      ]
    },
    {
      "cell_type": "code",
      "metadata": {
        "id": "ttPyXxUqLign",
        "colab_type": "code",
        "outputId": "330d3209-7fce-41a8-9ddf-8efa92e132d1",
        "colab": {
          "base_uri": "https://localhost:8080/",
          "height": 1000
        }
      },
      "source": [
        "hidden1 = model.layers[1]\n",
        "weights, biases = hidden1.get_weights()\n",
        "weights"
      ],
      "execution_count": 39,
      "outputs": [
        {
          "output_type": "execute_result",
          "data": {
            "text/plain": [
              "array([[ 1.80219561e-01, -3.44001353e-02, -3.10389370e-01,\n",
              "        -1.93417087e-01, -8.75025988e-04,  6.20691180e-02,\n",
              "        -2.86967218e-01, -1.88916102e-01,  1.17955863e-01,\n",
              "         5.66091835e-02],\n",
              "       [ 1.47313148e-01, -1.83542073e-02,  1.88746840e-01,\n",
              "         1.64300472e-01,  2.75153190e-01, -2.77252853e-01,\n",
              "         2.79408246e-01, -1.82411075e-03,  2.58801550e-01,\n",
              "         1.81688398e-01],\n",
              "       [ 1.65478498e-01,  2.02268213e-01, -2.35120952e-02,\n",
              "         1.20710999e-01, -3.31545472e-02,  6.56704903e-02,\n",
              "        -2.26920247e-02, -3.00746322e-01,  8.84924829e-02,\n",
              "         9.30240154e-02],\n",
              "       [ 5.19680381e-02, -2.04471216e-01, -1.48249865e-01,\n",
              "        -7.09101111e-02,  2.56902188e-01, -2.42256105e-01,\n",
              "        -1.91028059e-01, -1.68734491e-01, -1.29737630e-01,\n",
              "        -2.83487827e-01],\n",
              "       [ 7.61677325e-02,  1.47961169e-01,  1.92102641e-01,\n",
              "        -2.07675636e-01, -1.01969495e-01, -2.99955666e-01,\n",
              "         3.01481336e-01, -1.22693658e-01, -1.23651326e-01,\n",
              "         1.29135907e-01],\n",
              "       [-7.51161426e-02, -2.60809362e-01,  2.38725930e-01,\n",
              "         1.44972503e-02, -2.17667222e-01,  2.86809117e-01,\n",
              "        -2.04507634e-01,  2.06678480e-01,  1.16053820e-01,\n",
              "         1.53543770e-01],\n",
              "       [-3.03058892e-01,  2.77437121e-01,  2.52502233e-01,\n",
              "        -8.18490982e-04,  1.06638610e-01, -2.52668917e-01,\n",
              "        -2.79530883e-01,  2.31578797e-01, -2.67279655e-01,\n",
              "        -1.78327844e-01],\n",
              "       [-1.38076037e-01, -1.24511123e-02, -2.14561731e-01,\n",
              "        -1.46408349e-01,  1.93987519e-01, -2.00522199e-01,\n",
              "        -1.47038952e-01, -7.49860853e-02, -2.22860858e-01,\n",
              "        -1.45380273e-01],\n",
              "       [ 2.31835991e-01, -2.72760093e-01,  2.75873512e-01,\n",
              "         2.42889255e-01,  1.78579062e-01,  1.07841611e-01,\n",
              "         2.67447859e-01,  2.95525461e-01, -2.21095800e-01,\n",
              "         1.44257873e-01],\n",
              "       [ 2.33852357e-01,  7.84463286e-02,  8.42942297e-02,\n",
              "         2.11534351e-01,  2.26386219e-01, -2.90771693e-01,\n",
              "        -3.05630296e-01, -1.88991874e-01, -2.65777022e-01,\n",
              "         1.38632447e-01],\n",
              "       [-2.95185149e-01,  3.11382622e-01,  1.06914490e-01,\n",
              "        -2.06885800e-01,  1.26540303e-01,  3.03142935e-01,\n",
              "        -2.84956217e-01, -1.26566604e-01, -2.11395025e-02,\n",
              "         1.34881645e-01],\n",
              "       [-6.23486638e-02,  2.85528451e-01, -2.66208589e-01,\n",
              "         8.46844614e-02, -2.49905497e-01, -2.93735892e-01,\n",
              "        -1.99484244e-01, -2.72768974e-01,  1.82527244e-01,\n",
              "        -1.79717824e-01],\n",
              "       [ 2.64501721e-01, -5.69293797e-02,  2.51615316e-01,\n",
              "         3.15249115e-01,  2.12516278e-01,  6.37911856e-02,\n",
              "        -1.43680200e-01, -2.76738495e-01,  5.29089570e-03,\n",
              "         3.02041680e-01],\n",
              "       [ 1.81207687e-01,  2.24381119e-01,  9.70757902e-02,\n",
              "        -1.04081005e-01,  1.87374800e-01, -1.97558582e-01,\n",
              "        -4.60737050e-02, -2.87030160e-01,  2.99139410e-01,\n",
              "         1.67726457e-01],\n",
              "       [ 1.29933655e-01,  1.31504655e-01, -3.06239128e-01,\n",
              "         2.27851659e-01,  1.74081028e-01,  5.82483411e-02,\n",
              "         1.53495073e-01,  1.67296201e-01, -4.17117476e-02,\n",
              "        -2.30440199e-01],\n",
              "       [-9.19819772e-02,  7.36032724e-02, -2.71730036e-01,\n",
              "        -2.43439585e-01, -1.51769578e-01, -8.33842158e-02,\n",
              "         7.47454166e-03,  1.87966973e-01, -1.58866942e-02,\n",
              "         1.42422825e-01],\n",
              "       [ 2.18983680e-01,  1.32665485e-01,  1.96411282e-01,\n",
              "         2.51547664e-01,  1.52332991e-01, -2.53631055e-01,\n",
              "         2.20075577e-01,  4.32133675e-05,  1.71177268e-01,\n",
              "         1.27510935e-01],\n",
              "       [ 1.97846979e-01,  2.00319588e-02, -2.81734288e-01,\n",
              "         2.81935722e-01,  7.47515261e-02, -1.26071796e-01,\n",
              "        -1.94961846e-01, -2.72949547e-01, -2.64354646e-01,\n",
              "        -2.50275970e-01],\n",
              "       [-1.50899604e-01,  7.79311359e-02, -6.31313324e-02,\n",
              "         1.02361709e-01, -2.86998957e-01,  1.29544616e-01,\n",
              "        -2.62270421e-01,  2.26929396e-01, -2.43363976e-02,\n",
              "        -2.47090489e-01],\n",
              "       [-1.25054270e-01,  4.03350294e-02, -2.25958437e-01,\n",
              "        -2.41312847e-01,  2.54091114e-01,  7.93431997e-02,\n",
              "        -2.48169005e-01,  2.13258356e-01,  1.81713283e-01,\n",
              "        -2.28403181e-01],\n",
              "       [-4.30610180e-02, -2.41514444e-01,  2.20969886e-01,\n",
              "        -1.91773951e-01,  2.96569079e-01,  1.68883473e-01,\n",
              "        -1.54071972e-01, -1.30805433e-01, -2.87795484e-01,\n",
              "         2.62640089e-01],\n",
              "       [ 4.42882776e-02,  8.70278478e-03,  2.71443218e-01,\n",
              "         6.44364357e-02, -6.06265962e-02, -8.83601010e-02,\n",
              "         1.32411331e-01, -2.57076114e-01,  4.90087271e-02,\n",
              "         2.98005253e-01],\n",
              "       [ 5.56556582e-02,  1.94358557e-01, -2.57834792e-03,\n",
              "         2.90757149e-01,  1.45660043e-02,  1.22899264e-01,\n",
              "         2.45769888e-01, -1.08885676e-01,  3.26847434e-02,\n",
              "         4.81140316e-02],\n",
              "       [-1.76468849e-01, -2.36084759e-01, -6.47451580e-02,\n",
              "         9.12729800e-02, -3.13640445e-01, -2.40366280e-01,\n",
              "        -9.37108546e-02, -1.23808146e-01,  2.41121322e-01,\n",
              "        -2.04609632e-02],\n",
              "       [-1.76862329e-01, -1.28961369e-01,  8.22597742e-02,\n",
              "         5.69204986e-02, -6.67717010e-02, -1.91162258e-01,\n",
              "        -1.33434981e-01, -7.08081722e-02, -1.84880167e-01,\n",
              "        -8.93073678e-02],\n",
              "       [ 1.32581949e-01, -1.77094534e-01,  1.96165949e-01,\n",
              "         1.30671233e-01, -2.79300243e-01, -2.55274802e-01,\n",
              "         1.27328306e-01, -2.96813369e-01,  2.86379963e-01,\n",
              "        -3.07238460e-01],\n",
              "       [-2.25082889e-01,  2.43837208e-01, -2.04659477e-01,\n",
              "        -9.60970223e-02, -7.22561181e-02, -1.92260683e-01,\n",
              "         4.23283875e-02, -1.41422272e-01,  2.88275987e-01,\n",
              "         1.10842228e-01],\n",
              "       [ 1.65097445e-01, -1.99783266e-01, -2.60132253e-01,\n",
              "        -1.03777006e-01,  1.02213323e-02,  2.65645117e-01,\n",
              "         3.25585306e-02, -4.28669453e-02, -4.30056751e-02,\n",
              "         2.36435205e-01],\n",
              "       [ 1.58831477e-02,  1.84859186e-01,  2.55235046e-01,\n",
              "         1.33834124e-01, -6.47881627e-03,  2.64866263e-01,\n",
              "        -7.22460896e-02, -2.24040180e-01, -2.45046169e-01,\n",
              "        -2.62531281e-01],\n",
              "       [-1.05125070e-01,  1.89946741e-01, -5.81648648e-02,\n",
              "         9.25622284e-02, -2.45683104e-01, -2.99024075e-01,\n",
              "         5.09807467e-02,  1.81739062e-01, -7.80266523e-03,\n",
              "        -2.67626822e-01],\n",
              "       [ 8.10594857e-02, -2.74960011e-01, -9.22162384e-02,\n",
              "        -1.99844033e-01, -3.90926003e-02, -8.44467431e-02,\n",
              "         1.31111830e-01,  1.53990328e-01, -1.10220909e-01,\n",
              "        -1.07425585e-01],\n",
              "       [-2.60549396e-01,  1.54585570e-01,  3.89039814e-02,\n",
              "        -2.02005357e-01,  2.74456710e-01, -1.53958440e-01,\n",
              "        -5.20944893e-02, -3.15035015e-01,  7.47544765e-02,\n",
              "         2.91830987e-01],\n",
              "       [-9.94394124e-02, -2.00602412e-02,  1.98919386e-01,\n",
              "         2.35520869e-01, -1.65480152e-01, -1.14847884e-01,\n",
              "         1.48744285e-01, -5.13003469e-02,  1.11396551e-01,\n",
              "         4.24435139e-02],\n",
              "       [ 2.62739986e-01,  2.81436354e-01, -3.06795895e-01,\n",
              "        -2.35828191e-01, -2.37909392e-01,  1.55179828e-01,\n",
              "         1.51809394e-01,  6.61641061e-02,  7.03884363e-02,\n",
              "        -6.84067756e-02],\n",
              "       [-1.89174563e-01,  2.78788477e-01,  7.36083984e-02,\n",
              "         3.06609064e-01,  8.43731761e-02,  2.19606429e-01,\n",
              "        -1.25352219e-01,  1.90390140e-01,  7.44633675e-02,\n",
              "        -2.39122942e-01],\n",
              "       [-1.54400617e-01, -1.39189541e-01,  7.84457922e-02,\n",
              "         2.44119734e-01,  3.13696295e-01,  3.06703538e-01,\n",
              "         9.24926996e-02,  3.36532593e-02, -2.31827378e-01,\n",
              "         2.80318111e-01],\n",
              "       [-1.45501658e-01,  2.41480619e-01, -5.21234274e-02,\n",
              "        -1.34841532e-01,  2.10916847e-01,  9.21372175e-02,\n",
              "        -7.40157515e-02, -2.95903653e-01, -2.63045847e-01,\n",
              "         2.28512675e-01],\n",
              "       [-2.79527277e-01,  1.43960297e-01,  2.04583019e-01,\n",
              "         8.07276070e-02,  1.12782598e-01,  2.77805537e-01,\n",
              "        -2.08627880e-01,  7.46299922e-02, -2.95058161e-01,\n",
              "         2.24454254e-01],\n",
              "       [-8.50118250e-02,  2.14438707e-01,  5.03319204e-02,\n",
              "         2.15135008e-01, -2.39934415e-01,  2.49912113e-01,\n",
              "         3.11590999e-01,  5.89844882e-02, -1.40696302e-01,\n",
              "         1.55538112e-01],\n",
              "       [-1.65994883e-01, -9.51317400e-02, -6.78602457e-02,\n",
              "         4.90637124e-02,  1.22547179e-01, -6.16543591e-02,\n",
              "         1.41129375e-01, -1.78399384e-02, -2.39158452e-01,\n",
              "        -1.64864793e-01],\n",
              "       [ 4.34639156e-02, -2.09725201e-02, -2.05212951e-01,\n",
              "         1.57409608e-01, -2.32560143e-01, -5.75011969e-03,\n",
              "        -2.94366062e-01,  2.69938976e-01,  1.16042197e-02,\n",
              "         2.29612589e-02],\n",
              "       [ 1.68514788e-01,  8.80695283e-02,  4.59445417e-02,\n",
              "        -1.29326120e-01, -7.22490400e-02,  1.52413845e-02,\n",
              "        -1.67275384e-01,  1.87677354e-01, -6.99689537e-02,\n",
              "        -1.88652158e-01],\n",
              "       [ 1.33677214e-01, -2.16339380e-01, -1.21526480e-01,\n",
              "         2.86086828e-01, -3.07958573e-01,  2.75518030e-01,\n",
              "         7.17079937e-02, -2.34595269e-01, -9.28303301e-02,\n",
              "        -1.87136576e-01],\n",
              "       [-2.58487582e-01, -2.55887538e-01, -8.13332498e-02,\n",
              "        -2.28401840e-01, -2.97885925e-01, -1.60885394e-01,\n",
              "         2.25231797e-01,  7.12345243e-02, -4.29510176e-02,\n",
              "         1.74999237e-01],\n",
              "       [-1.79733798e-01, -2.15811700e-01, -1.04297087e-01,\n",
              "        -2.46679276e-01, -2.01650858e-01, -3.14042985e-01,\n",
              "        -9.82372463e-02, -1.30868018e-01,  2.13052303e-01,\n",
              "        -2.49419957e-01],\n",
              "       [ 4.85957265e-02,  1.45940006e-01,  3.15072089e-01,\n",
              "         9.27357674e-02,  2.68605620e-01,  1.53050095e-01,\n",
              "        -2.49646217e-01, -1.21242106e-02,  4.15181220e-02,\n",
              "        -3.00543278e-01],\n",
              "       [ 2.17002720e-01, -1.38672858e-01,  2.20313042e-01,\n",
              "        -2.11217135e-01, -2.56594867e-01,  2.66074091e-01,\n",
              "        -2.30644822e-01, -6.04053736e-02,  2.45843858e-01,\n",
              "         1.34490490e-01],\n",
              "       [ 1.64449453e-01,  2.26445109e-01,  1.63125873e-01,\n",
              "         1.77540869e-01,  1.70446783e-01, -1.65233314e-01,\n",
              "        -1.94469899e-01,  9.85451639e-02,  2.13977069e-01,\n",
              "        -2.53114283e-01],\n",
              "       [ 1.48286879e-01,  2.51015455e-01,  2.44445801e-02,\n",
              "         2.36416489e-01,  2.12081701e-01,  3.04726869e-01,\n",
              "         5.90516627e-02, -1.18865952e-01,  2.23735303e-01,\n",
              "         1.24423593e-01],\n",
              "       [ 1.75472945e-01,  2.58230239e-01,  2.42590308e-02,\n",
              "        -1.88252032e-01,  2.13169754e-02, -6.32884800e-02,\n",
              "         1.19896531e-01,  2.29359895e-01,  3.02430421e-01,\n",
              "        -4.26106155e-02]], dtype=float32)"
            ]
          },
          "metadata": {
            "tags": []
          },
          "execution_count": 39
        }
      ]
    },
    {
      "cell_type": "code",
      "metadata": {
        "id": "B1tlTpnbLr0i",
        "colab_type": "code",
        "outputId": "ab7cac8c-4709-4d54-c973-b1cf753c4317",
        "colab": {
          "base_uri": "https://localhost:8080/",
          "height": 50
        }
      },
      "source": [
        "print(biases.shape)\n",
        "biases"
      ],
      "execution_count": 40,
      "outputs": [
        {
          "output_type": "stream",
          "text": [
            "(10,)\n"
          ],
          "name": "stdout"
        },
        {
          "output_type": "execute_result",
          "data": {
            "text/plain": [
              "array([0., 0., 0., 0., 0., 0., 0., 0., 0., 0.], dtype=float32)"
            ]
          },
          "metadata": {
            "tags": []
          },
          "execution_count": 40
        }
      ]
    },
    {
      "cell_type": "code",
      "metadata": {
        "id": "njMxHszzL87f",
        "colab_type": "code",
        "colab": {}
      },
      "source": [
        "model.compile(loss=keras.losses.mse,\n",
        "              optimizer=\"sgd\",\n",
        "              metrics=[keras.losses.mae])"
      ],
      "execution_count": 0,
      "outputs": []
    },
    {
      "cell_type": "code",
      "metadata": {
        "id": "ysvUGqbAMIl8",
        "colab_type": "code",
        "outputId": "563a4eab-aaeb-4a04-d946-67e2f7d63243",
        "colab": {
          "base_uri": "https://localhost:8080/",
          "height": 1000
        }
      },
      "source": [
        "history = model.fit(Xtrain, Ytrain, epochs=90, validation_data=(Xvalid, Yvalid))"
      ],
      "execution_count": 43,
      "outputs": [
        {
          "output_type": "stream",
          "text": [
            "Train on 10113 samples, validate on 4335 samples\n",
            "Epoch 1/90\n",
            "10113/10113 [==============================] - 1s 50us/sample - loss: 13456842615.2034 - mean_absolute_error: 91987.3906 - val_loss: 13412212555.2941 - val_mean_absolute_error: 91629.3750\n",
            "Epoch 2/90\n",
            "10113/10113 [==============================] - 1s 50us/sample - loss: 13456901021.0731 - mean_absolute_error: 91910.1016 - val_loss: 13416059988.9200 - val_mean_absolute_error: 91825.1562\n",
            "Epoch 3/90\n",
            "10113/10113 [==============================] - 0s 49us/sample - loss: 13456599278.5587 - mean_absolute_error: 92039.9219 - val_loss: 13415040120.4706 - val_mean_absolute_error: 91780.7891\n",
            "Epoch 4/90\n",
            "10113/10113 [==============================] - 0s 48us/sample - loss: 13456619237.4963 - mean_absolute_error: 92017.1562 - val_loss: 13417933822.5827 - val_mean_absolute_error: 91898.5781\n",
            "Epoch 5/90\n",
            "10113/10113 [==============================] - 0s 49us/sample - loss: 13456972580.7432 - mean_absolute_error: 92089.3203 - val_loss: 13416276757.6729 - val_mean_absolute_error: 91834.2109\n",
            "Epoch 6/90\n",
            "10113/10113 [==============================] - 1s 50us/sample - loss: 13456608301.0588 - mean_absolute_error: 92045.4766 - val_loss: 13415130002.3954 - val_mean_absolute_error: 91784.8828\n",
            "Epoch 7/90\n",
            "10113/10113 [==============================] - 1s 52us/sample - loss: 13456618393.4358 - mean_absolute_error: 91992.7266 - val_loss: 13415642218.8881 - val_mean_absolute_error: 91807.4219\n",
            "Epoch 8/90\n",
            "10113/10113 [==============================] - 1s 52us/sample - loss: 13456542015.4368 - mean_absolute_error: 92027.5859 - val_loss: 13415625179.7407 - val_mean_absolute_error: 91806.7266\n",
            "Epoch 9/90\n",
            "10113/10113 [==============================] - 1s 51us/sample - loss: 13456424932.4837 - mean_absolute_error: 92094.1484 - val_loss: 13414844131.1225 - val_mean_absolute_error: 91771.7969\n",
            "Epoch 10/90\n",
            "10113/10113 [==============================] - 1s 53us/sample - loss: 13456642055.7461 - mean_absolute_error: 92039.0859 - val_loss: 13414728016.8452 - val_mean_absolute_error: 91766.4375\n",
            "Epoch 11/90\n",
            "10113/10113 [==============================] - 1s 52us/sample - loss: 13456423266.8130 - mean_absolute_error: 92049.2422 - val_loss: 13414385846.3594 - val_mean_absolute_error: 91750.2344\n",
            "Epoch 12/90\n",
            "10113/10113 [==============================] - 1s 51us/sample - loss: 13456518924.4038 - mean_absolute_error: 91973.1484 - val_loss: 13414633248.5389 - val_mean_absolute_error: 91762.0312\n",
            "Epoch 13/90\n",
            "10113/10113 [==============================] - 1s 51us/sample - loss: 13456578469.6310 - mean_absolute_error: 92040.1328 - val_loss: 13414351524.6431 - val_mean_absolute_error: 91748.5938\n",
            "Epoch 14/90\n",
            "10113/10113 [==============================] - 1s 50us/sample - loss: 13456682845.7882 - mean_absolute_error: 91996.4297 - val_loss: 13413837764.4734 - val_mean_absolute_error: 91723.0469\n",
            "Epoch 15/90\n",
            "10113/10113 [==============================] - 1s 51us/sample - loss: 13456734717.6711 - mean_absolute_error: 91978.8984 - val_loss: 13413739942.5919 - val_mean_absolute_error: 91717.9609\n",
            "Epoch 16/90\n",
            "10113/10113 [==============================] - 1s 50us/sample - loss: 13456717369.3614 - mean_absolute_error: 92021.3359 - val_loss: 13412929031.6770 - val_mean_absolute_error: 91673.6562\n",
            "Epoch 17/90\n",
            "10113/10113 [==============================] - 0s 48us/sample - loss: 13456561996.7772 - mean_absolute_error: 91912.5078 - val_loss: 13413372374.4258 - val_mean_absolute_error: 91698.4922\n",
            "Epoch 18/90\n",
            "10113/10113 [==============================] - 1s 50us/sample - loss: 13456645598.8640 - mean_absolute_error: 91984.1875 - val_loss: 13413467994.6482 - val_mean_absolute_error: 91703.6406\n",
            "Epoch 19/90\n",
            "10113/10113 [==============================] - 1s 52us/sample - loss: 13456638794.2458 - mean_absolute_error: 91963.6094 - val_loss: 13415365842.2330 - val_mean_absolute_error: 91795.3594\n",
            "Epoch 20/90\n",
            "10113/10113 [==============================] - 1s 51us/sample - loss: 13456537090.8644 - mean_absolute_error: 92043.5234 - val_loss: 13414897287.1160 - val_mean_absolute_error: 91774.2500\n",
            "Epoch 21/90\n",
            "10113/10113 [==============================] - 1s 51us/sample - loss: 13456428491.6507 - mean_absolute_error: 91996.5625 - val_loss: 13414467444.6321 - val_mean_absolute_error: 91754.1484\n",
            "Epoch 22/90\n",
            "10113/10113 [==============================] - 1s 50us/sample - loss: 13456503093.4124 - mean_absolute_error: 92055.1406 - val_loss: 13413423597.6932 - val_mean_absolute_error: 91701.3047\n",
            "Epoch 23/90\n",
            "10113/10113 [==============================] - 1s 50us/sample - loss: 13456652484.0312 - mean_absolute_error: 92008.5938 - val_loss: 13412925967.4722 - val_mean_absolute_error: 91673.4062\n",
            "Epoch 24/90\n",
            "10113/10113 [==============================] - 1s 51us/sample - loss: 13456757810.5266 - mean_absolute_error: 91945.7031 - val_loss: 13412873495.7988 - val_mean_absolute_error: 91670.3516\n",
            "Epoch 25/90\n",
            "10113/10113 [==============================] - 1s 55us/sample - loss: 13456758448.6914 - mean_absolute_error: 91950.6719 - val_loss: 13413144208.4466 - val_mean_absolute_error: 91685.8828\n",
            "Epoch 26/90\n",
            "10113/10113 [==============================] - 1s 55us/sample - loss: 13456715693.5778 - mean_absolute_error: 91961.1562 - val_loss: 13413215081.5299 - val_mean_absolute_error: 91689.8438\n",
            "Epoch 27/90\n",
            "10113/10113 [==============================] - 1s 57us/sample - loss: 13456626399.7753 - mean_absolute_error: 91975.3125 - val_loss: 13414185156.0600 - val_mean_absolute_error: 91740.4531\n",
            "Epoch 28/90\n",
            "10113/10113 [==============================] - 1s 57us/sample - loss: 13456561732.9552 - mean_absolute_error: 91987.2266 - val_loss: 13414459319.2452 - val_mean_absolute_error: 91753.7578\n",
            "Epoch 29/90\n",
            "10113/10113 [==============================] - 1s 57us/sample - loss: 13456820269.6664 - mean_absolute_error: 92017.6562 - val_loss: 13413716806.5698 - val_mean_absolute_error: 91716.8125\n",
            "Epoch 30/90\n",
            "10113/10113 [==============================] - 1s 56us/sample - loss: 13456496404.3777 - mean_absolute_error: 91973.4844 - val_loss: 13413558986.0835 - val_mean_absolute_error: 91708.5547\n",
            "Epoch 31/90\n",
            "10113/10113 [==============================] - 1s 55us/sample - loss: 13456723233.0853 - mean_absolute_error: 91991.7891 - val_loss: 13414591772.8775 - val_mean_absolute_error: 91760.0156\n",
            "Epoch 32/90\n",
            "10113/10113 [==============================] - 1s 57us/sample - loss: 13456649940.6878 - mean_absolute_error: 91998.0781 - val_loss: 13417786904.6847 - val_mean_absolute_error: 91893.1484\n",
            "Epoch 33/90\n",
            "10113/10113 [==============================] - 1s 55us/sample - loss: 13456836945.6122 - mean_absolute_error: 92077.4922 - val_loss: 13416091866.7368 - val_mean_absolute_error: 91826.5781\n",
            "Epoch 34/90\n",
            "10113/10113 [==============================] - 1s 55us/sample - loss: 13456593140.0265 - mean_absolute_error: 92008.5703 - val_loss: 13415128027.1502 - val_mean_absolute_error: 91784.7188\n",
            "Epoch 35/90\n",
            "10113/10113 [==============================] - 1s 57us/sample - loss: 13456552616.5317 - mean_absolute_error: 91993.9766 - val_loss: 13415510158.2025 - val_mean_absolute_error: 91801.7266\n",
            "Epoch 36/90\n",
            "10113/10113 [==============================] - 1s 54us/sample - loss: 13456450590.9337 - mean_absolute_error: 92087.3828 - val_loss: 13413767291.5414 - val_mean_absolute_error: 91719.4766\n",
            "Epoch 37/90\n",
            "10113/10113 [==============================] - 1s 52us/sample - loss: 13456662011.8991 - mean_absolute_error: 91984.6562 - val_loss: 13413374441.6775 - val_mean_absolute_error: 91698.5625\n",
            "Epoch 38/90\n",
            "10113/10113 [==============================] - 1s 50us/sample - loss: 13456579434.2427 - mean_absolute_error: 91992.5391 - val_loss: 13414898479.6567 - val_mean_absolute_error: 91774.3516\n",
            "Epoch 39/90\n",
            "10113/10113 [==============================] - 1s 51us/sample - loss: 13456457220.6071 - mean_absolute_error: 91987.4688 - val_loss: 13414324120.3008 - val_mean_absolute_error: 91747.2266\n",
            "Epoch 40/90\n",
            "10113/10113 [==============================] - 1s 51us/sample - loss: 13456506252.6190 - mean_absolute_error: 92039.6797 - val_loss: 13413091761.9303 - val_mean_absolute_error: 91682.9297\n",
            "Epoch 41/90\n",
            "10113/10113 [==============================] - 1s 51us/sample - loss: 13456695275.7488 - mean_absolute_error: 91968.3359 - val_loss: 13413139810.3253 - val_mean_absolute_error: 91685.6328\n",
            "Epoch 42/90\n",
            "10113/10113 [==============================] - 1s 50us/sample - loss: 13456752518.8981 - mean_absolute_error: 91991.1719 - val_loss: 13412458586.4711 - val_mean_absolute_error: 91645.2578\n",
            "Epoch 43/90\n",
            "10113/10113 [==============================] - 1s 50us/sample - loss: 13456735041.5885 - mean_absolute_error: 91968.8125 - val_loss: 13413637662.3539 - val_mean_absolute_error: 91712.6875\n",
            "Epoch 44/90\n",
            "10113/10113 [==============================] - 1s 52us/sample - loss: 13456568732.1254 - mean_absolute_error: 91964.9531 - val_loss: 13414273244.3903 - val_mean_absolute_error: 91744.7969\n",
            "Epoch 45/90\n",
            "10113/10113 [==============================] - 1s 52us/sample - loss: 13456597896.8472 - mean_absolute_error: 91971.6406 - val_loss: 13415207344.2768 - val_mean_absolute_error: 91788.2969\n",
            "Epoch 46/90\n",
            "10113/10113 [==============================] - 1s 51us/sample - loss: 13456634929.6470 - mean_absolute_error: 92053.8203 - val_loss: 13414385603.7647 - val_mean_absolute_error: 91750.2188\n",
            "Epoch 47/90\n",
            "10113/10113 [==============================] - 1s 51us/sample - loss: 13456517479.6606 - mean_absolute_error: 92027.4922 - val_loss: 13413653017.1571 - val_mean_absolute_error: 91713.5312\n",
            "Epoch 48/90\n",
            "10113/10113 [==============================] - 1s 51us/sample - loss: 13456610332.2883 - mean_absolute_error: 91984.9688 - val_loss: 13413947771.3642 - val_mean_absolute_error: 91728.5938\n",
            "Epoch 49/90\n",
            "10113/10113 [==============================] - 1s 51us/sample - loss: 13456608140.0621 - mean_absolute_error: 91991.5703 - val_loss: 13413393096.6662 - val_mean_absolute_error: 91699.6406\n",
            "Epoch 50/90\n",
            "10113/10113 [==============================] - 1s 50us/sample - loss: 13456611906.8035 - mean_absolute_error: 91970.3984 - val_loss: 13414278743.7546 - val_mean_absolute_error: 91745.0234\n",
            "Epoch 51/90\n",
            "10113/10113 [==============================] - 1s 51us/sample - loss: 13456565049.2348 - mean_absolute_error: 92010.2266 - val_loss: 13413416161.1146 - val_mean_absolute_error: 91700.8516\n",
            "Epoch 52/90\n",
            "10113/10113 [==============================] - 1s 50us/sample - loss: 13456695653.3318 - mean_absolute_error: 91981.8906 - val_loss: 13412976628.8978 - val_mean_absolute_error: 91676.3750\n",
            "Epoch 53/90\n",
            "10113/10113 [==============================] - 1s 51us/sample - loss: 13456754814.7723 - mean_absolute_error: 91951.2734 - val_loss: 13413179411.1336 - val_mean_absolute_error: 91687.8438\n",
            "Epoch 54/90\n",
            "10113/10113 [==============================] - 1s 54us/sample - loss: 13456631258.2822 - mean_absolute_error: 91988.0938 - val_loss: 13414237849.6591 - val_mean_absolute_error: 91743.0469\n",
            "Epoch 55/90\n",
            "10113/10113 [==============================] - 1s 50us/sample - loss: 13456696521.2396 - mean_absolute_error: 91984.9766 - val_loss: 13414990071.0828 - val_mean_absolute_error: 91778.4766\n",
            "Epoch 56/90\n",
            "10113/10113 [==============================] - 1s 51us/sample - loss: 13456506947.0060 - mean_absolute_error: 92000.6797 - val_loss: 13415488586.6445 - val_mean_absolute_error: 91800.7266\n",
            "Epoch 57/90\n",
            "10113/10113 [==============================] - 1s 51us/sample - loss: 13456511592.2429 - mean_absolute_error: 92010.4531 - val_loss: 13414390519.9096 - val_mean_absolute_error: 91750.4219\n",
            "Epoch 58/90\n",
            "10113/10113 [==============================] - 1s 51us/sample - loss: 13456575589.6102 - mean_absolute_error: 91967.2266 - val_loss: 13414392497.2807 - val_mean_absolute_error: 91750.5469\n",
            "Epoch 59/90\n",
            "10113/10113 [==============================] - 1s 51us/sample - loss: 13456558735.0586 - mean_absolute_error: 92033.3594 - val_loss: 13414329439.6678 - val_mean_absolute_error: 91747.4922\n",
            "Epoch 60/90\n",
            "10113/10113 [==============================] - 1s 50us/sample - loss: 13456473199.2295 - mean_absolute_error: 91993.2188 - val_loss: 13415236270.4461 - val_mean_absolute_error: 91789.6016\n",
            "Epoch 61/90\n",
            "10113/10113 [==============================] - 1s 50us/sample - loss: 13456582536.0625 - mean_absolute_error: 92053.1250 - val_loss: 13413985278.1103 - val_mean_absolute_error: 91730.5469\n",
            "Epoch 62/90\n",
            "10113/10113 [==============================] - 1s 50us/sample - loss: 13456602930.5013 - mean_absolute_error: 91978.5781 - val_loss: 13413892085.8427 - val_mean_absolute_error: 91725.8047\n",
            "Epoch 63/90\n",
            "10113/10113 [==============================] - 1s 51us/sample - loss: 13456690488.5767 - mean_absolute_error: 92000.0703 - val_loss: 13413118935.1345 - val_mean_absolute_error: 91684.5312\n",
            "Epoch 64/90\n",
            "10113/10113 [==============================] - 1s 50us/sample - loss: 13456755623.4012 - mean_absolute_error: 91979.7344 - val_loss: 13416113865.8473 - val_mean_absolute_error: 91827.4766\n",
            "Epoch 65/90\n",
            "10113/10113 [==============================] - 1s 51us/sample - loss: 13456608779.7710 - mean_absolute_error: 92073.3359 - val_loss: 13414714775.2378 - val_mean_absolute_error: 91765.8672\n",
            "Epoch 66/90\n",
            "10113/10113 [==============================] - 1s 52us/sample - loss: 13456485779.7069 - mean_absolute_error: 92039.0703 - val_loss: 13413418081.0851 - val_mean_absolute_error: 91700.9922\n",
            "Epoch 67/90\n",
            "10113/10113 [==============================] - 1s 52us/sample - loss: 13456826303.2469 - mean_absolute_error: 91986.7734 - val_loss: 13414387739.5193 - val_mean_absolute_error: 91750.2969\n",
            "Epoch 68/90\n",
            "10113/10113 [==============================] - 1s 53us/sample - loss: 13456388869.4931 - mean_absolute_error: 91971.5625 - val_loss: 13414179235.0487 - val_mean_absolute_error: 91740.1406\n",
            "Epoch 69/90\n",
            "10113/10113 [==============================] - 1s 53us/sample - loss: 13456631106.0441 - mean_absolute_error: 91989.7422 - val_loss: 13414089983.8228 - val_mean_absolute_error: 91735.7500\n",
            "Epoch 70/90\n",
            "10113/10113 [==============================] - 1s 51us/sample - loss: 13456485940.9062 - mean_absolute_error: 91937.3672 - val_loss: 13414204006.4000 - val_mean_absolute_error: 91741.3359\n",
            "Epoch 71/90\n",
            "10113/10113 [==============================] - 1s 52us/sample - loss: 13456519681.1644 - mean_absolute_error: 91984.7188 - val_loss: 13416733892.4143 - val_mean_absolute_error: 91852.7500\n",
            "Epoch 72/90\n",
            "10113/10113 [==============================] - 1s 52us/sample - loss: 13456788244.5043 - mean_absolute_error: 92092.3828 - val_loss: 13414882530.2957 - val_mean_absolute_error: 91773.5859\n",
            "Epoch 73/90\n",
            "10113/10113 [==============================] - 1s 50us/sample - loss: 13456622687.3830 - mean_absolute_error: 91979.3438 - val_loss: 13414819512.6035 - val_mean_absolute_error: 91770.6875\n",
            "Epoch 74/90\n",
            "10113/10113 [==============================] - 1s 52us/sample - loss: 13456440068.0249 - mean_absolute_error: 92032.6094 - val_loss: 13413920367.6125 - val_mean_absolute_error: 91727.2188\n",
            "Epoch 75/90\n",
            "10113/10113 [==============================] - 1s 51us/sample - loss: 13456553281.4239 - mean_absolute_error: 91998.7344 - val_loss: 13414414354.4249 - val_mean_absolute_error: 91751.6094\n",
            "Epoch 76/90\n",
            "10113/10113 [==============================] - 1s 52us/sample - loss: 13456471697.0996 - mean_absolute_error: 92019.8750 - val_loss: 13413666876.4715 - val_mean_absolute_error: 91714.2109\n",
            "Epoch 77/90\n",
            "10113/10113 [==============================] - 1s 51us/sample - loss: 13456637130.4104 - mean_absolute_error: 91966.0938 - val_loss: 13415632311.5995 - val_mean_absolute_error: 91807.0547\n",
            "Epoch 78/90\n",
            "10113/10113 [==============================] - 1s 52us/sample - loss: 13456563222.2763 - mean_absolute_error: 92066.2891 - val_loss: 13413932280.5001 - val_mean_absolute_error: 91727.8516\n",
            "Epoch 79/90\n",
            "10113/10113 [==============================] - 1s 53us/sample - loss: 13456665577.0149 - mean_absolute_error: 92006.7266 - val_loss: 13412863344.0258 - val_mean_absolute_error: 91669.8125\n",
            "Epoch 80/90\n",
            "10113/10113 [==============================] - 1s 51us/sample - loss: 13456627461.1712 - mean_absolute_error: 91923.4531 - val_loss: 13414060635.7702 - val_mean_absolute_error: 91734.2656\n",
            "Epoch 81/90\n",
            "10113/10113 [==============================] - 1s 51us/sample - loss: 13456723103.3260 - mean_absolute_error: 92004.5469 - val_loss: 13413696520.7400 - val_mean_absolute_error: 91715.7656\n",
            "Epoch 82/90\n",
            "10113/10113 [==============================] - 1s 51us/sample - loss: 13456643686.3190 - mean_absolute_error: 91989.9531 - val_loss: 13413685229.1027 - val_mean_absolute_error: 91715.1641\n",
            "Epoch 83/90\n",
            "10113/10113 [==============================] - 1s 53us/sample - loss: 13456611007.1710 - mean_absolute_error: 92019.2031 - val_loss: 13413370915.9050 - val_mean_absolute_error: 91698.4062\n",
            "Epoch 84/90\n",
            "10113/10113 [==============================] - 1s 51us/sample - loss: 13456723183.9573 - mean_absolute_error: 92001.9297 - val_loss: 13413423337.8547 - val_mean_absolute_error: 91701.3047\n",
            "Epoch 85/90\n",
            "10113/10113 [==============================] - 1s 53us/sample - loss: 13456586947.2718 - mean_absolute_error: 91967.8828 - val_loss: 13414752865.4394 - val_mean_absolute_error: 91767.6328\n",
            "Epoch 86/90\n",
            "10113/10113 [==============================] - 1s 51us/sample - loss: 13456516011.0717 - mean_absolute_error: 92035.2031 - val_loss: 13413997605.0860 - val_mean_absolute_error: 91731.0938\n",
            "Epoch 87/90\n",
            "10113/10113 [==============================] - 1s 51us/sample - loss: 13456565912.2887 - mean_absolute_error: 92026.1562 - val_loss: 13413583330.3548 - val_mean_absolute_error: 91709.7812\n",
            "Epoch 88/90\n",
            "10113/10113 [==============================] - 1s 52us/sample - loss: 13456649475.1706 - mean_absolute_error: 92022.5078 - val_loss: 13413263845.8980 - val_mean_absolute_error: 91692.5547\n",
            "Epoch 89/90\n",
            "10113/10113 [==============================] - 1s 52us/sample - loss: 13456613008.9477 - mean_absolute_error: 91956.5234 - val_loss: 13413690566.8946 - val_mean_absolute_error: 91715.4688\n",
            "Epoch 90/90\n",
            "10113/10113 [==============================] - 1s 51us/sample - loss: 13456363508.9125 - mean_absolute_error: 91925.3203 - val_loss: 13414440862.4424 - val_mean_absolute_error: 91752.8281\n"
          ],
          "name": "stdout"
        }
      ]
    },
    {
      "cell_type": "code",
      "metadata": {
        "id": "2qc-ZqziMOk9",
        "colab_type": "code",
        "outputId": "58b829b6-422e-4ff8-b6ac-20a2c5b189e8",
        "colab": {
          "base_uri": "https://localhost:8080/",
          "height": 185
        }
      },
      "source": [
        "history.params"
      ],
      "execution_count": 44,
      "outputs": [
        {
          "output_type": "execute_result",
          "data": {
            "text/plain": [
              "{'batch_size': 32,\n",
              " 'do_validation': True,\n",
              " 'epochs': 90,\n",
              " 'metrics': ['loss',\n",
              "  'mean_absolute_error',\n",
              "  'val_loss',\n",
              "  'val_mean_absolute_error'],\n",
              " 'samples': 10113,\n",
              " 'steps': None,\n",
              " 'verbose': 0}"
            ]
          },
          "metadata": {
            "tags": []
          },
          "execution_count": 44
        }
      ]
    },
    {
      "cell_type": "code",
      "metadata": {
        "id": "3m8T6dnuMTUe",
        "colab_type": "code",
        "outputId": "d1c3ebf3-3e48-40e2-f008-d6b6b541316e",
        "colab": {
          "base_uri": "https://localhost:8080/",
          "height": 1000
        }
      },
      "source": [
        "history.history"
      ],
      "execution_count": 45,
      "outputs": [
        {
          "output_type": "execute_result",
          "data": {
            "text/plain": [
              "{'loss': [13456842615.203402,\n",
              "  13456901021.073074,\n",
              "  13456599278.558687,\n",
              "  13456619237.496292,\n",
              "  13456972580.743202,\n",
              "  13456608301.058836,\n",
              "  13456618393.435776,\n",
              "  13456542015.436764,\n",
              "  13456424932.483734,\n",
              "  13456642055.746069,\n",
              "  13456423266.813013,\n",
              "  13456518924.403837,\n",
              "  13456578469.63097,\n",
              "  13456682845.788193,\n",
              "  13456734717.671116,\n",
              "  13456717369.361416,\n",
              "  13456561996.777218,\n",
              "  13456645598.864037,\n",
              "  13456638794.245823,\n",
              "  13456537090.864431,\n",
              "  13456428491.650747,\n",
              "  13456503093.41244,\n",
              "  13456652484.031246,\n",
              "  13456757810.52665,\n",
              "  13456758448.691387,\n",
              "  13456715693.57777,\n",
              "  13456626399.77534,\n",
              "  13456561732.955206,\n",
              "  13456820269.66637,\n",
              "  13456496404.377731,\n",
              "  13456723233.085335,\n",
              "  13456649940.687828,\n",
              "  13456836945.612183,\n",
              "  13456593140.0265,\n",
              "  13456552616.531698,\n",
              "  13456450590.93365,\n",
              "  13456662011.89914,\n",
              "  13456579434.242659,\n",
              "  13456457220.60714,\n",
              "  13456506252.619005,\n",
              "  13456695275.748838,\n",
              "  13456752518.898052,\n",
              "  13456735041.588451,\n",
              "  13456568732.125383,\n",
              "  13456597896.847227,\n",
              "  13456634929.64699,\n",
              "  13456517479.660635,\n",
              "  13456610332.288342,\n",
              "  13456608140.062098,\n",
              "  13456611906.80352,\n",
              "  13456565049.234846,\n",
              "  13456695653.33175,\n",
              "  13456754814.772274,\n",
              "  13456631258.282211,\n",
              "  13456696521.239594,\n",
              "  13456506947.006031,\n",
              "  13456511592.242855,\n",
              "  13456575589.610205,\n",
              "  13456558735.058638,\n",
              "  13456473199.229507,\n",
              "  13456582536.062494,\n",
              "  13456602930.501335,\n",
              "  13456690488.576683,\n",
              "  13456755623.401167,\n",
              "  13456608779.770988,\n",
              "  13456485779.706911,\n",
              "  13456826303.24691,\n",
              "  13456388869.493128,\n",
              "  13456631106.044102,\n",
              "  13456485940.90616,\n",
              "  13456519681.164442,\n",
              "  13456788244.504301,\n",
              "  13456622687.382973,\n",
              "  13456440068.024918,\n",
              "  13456553281.42391,\n",
              "  13456471697.099575,\n",
              "  13456637130.410362,\n",
              "  13456563222.276278,\n",
              "  13456665577.01493,\n",
              "  13456627461.171165,\n",
              "  13456723103.326015,\n",
              "  13456643686.318995,\n",
              "  13456611007.170969,\n",
              "  13456723183.957283,\n",
              "  13456586947.271828,\n",
              "  13456516011.07169,\n",
              "  13456565912.288736,\n",
              "  13456649475.170572,\n",
              "  13456613008.947691,\n",
              "  13456363508.912489],\n",
              " 'mean_absolute_error': [91987.39,\n",
              "  91910.1,\n",
              "  92039.92,\n",
              "  92017.16,\n",
              "  92089.32,\n",
              "  92045.48,\n",
              "  91992.73,\n",
              "  92027.586,\n",
              "  92094.15,\n",
              "  92039.086,\n",
              "  92049.24,\n",
              "  91973.15,\n",
              "  92040.13,\n",
              "  91996.43,\n",
              "  91978.9,\n",
              "  92021.336,\n",
              "  91912.51,\n",
              "  91984.19,\n",
              "  91963.61,\n",
              "  92043.52,\n",
              "  91996.56,\n",
              "  92055.14,\n",
              "  92008.59,\n",
              "  91945.7,\n",
              "  91950.67,\n",
              "  91961.16,\n",
              "  91975.31,\n",
              "  91987.23,\n",
              "  92017.66,\n",
              "  91973.484,\n",
              "  91991.79,\n",
              "  91998.08,\n",
              "  92077.49,\n",
              "  92008.57,\n",
              "  91993.98,\n",
              "  92087.38,\n",
              "  91984.66,\n",
              "  91992.54,\n",
              "  91987.47,\n",
              "  92039.68,\n",
              "  91968.336,\n",
              "  91991.17,\n",
              "  91968.81,\n",
              "  91964.95,\n",
              "  91971.64,\n",
              "  92053.82,\n",
              "  92027.49,\n",
              "  91984.97,\n",
              "  91991.57,\n",
              "  91970.4,\n",
              "  92010.23,\n",
              "  91981.89,\n",
              "  91951.27,\n",
              "  91988.09,\n",
              "  91984.98,\n",
              "  92000.68,\n",
              "  92010.45,\n",
              "  91967.23,\n",
              "  92033.36,\n",
              "  91993.22,\n",
              "  92053.125,\n",
              "  91978.58,\n",
              "  92000.07,\n",
              "  91979.734,\n",
              "  92073.336,\n",
              "  92039.07,\n",
              "  91986.77,\n",
              "  91971.56,\n",
              "  91989.74,\n",
              "  91937.37,\n",
              "  91984.72,\n",
              "  92092.38,\n",
              "  91979.34,\n",
              "  92032.61,\n",
              "  91998.734,\n",
              "  92019.875,\n",
              "  91966.09,\n",
              "  92066.29,\n",
              "  92006.73,\n",
              "  91923.45,\n",
              "  92004.55,\n",
              "  91989.95,\n",
              "  92019.2,\n",
              "  92001.93,\n",
              "  91967.88,\n",
              "  92035.2,\n",
              "  92026.16,\n",
              "  92022.51,\n",
              "  91956.52,\n",
              "  91925.32],\n",
              " 'val_loss': [13412212555.294117,\n",
              "  13416059988.919954,\n",
              "  13415040120.470589,\n",
              "  13417933822.582699,\n",
              "  13416276757.672895,\n",
              "  13415130002.395386,\n",
              "  13415642218.88812,\n",
              "  13415625179.740715,\n",
              "  13414844131.122492,\n",
              "  13414728016.845213,\n",
              "  13414385846.3594,\n",
              "  13414633248.53887,\n",
              "  13414351524.643137,\n",
              "  13413837764.473356,\n",
              "  13413739942.591927,\n",
              "  13412929031.677048,\n",
              "  13413372374.425837,\n",
              "  13413467994.648212,\n",
              "  13415365842.232986,\n",
              "  13414897287.116032,\n",
              "  13414467444.632065,\n",
              "  13413423597.693195,\n",
              "  13412925967.472202,\n",
              "  13412873495.798847,\n",
              "  13413144208.446598,\n",
              "  13413215081.529873,\n",
              "  13414185156.059977,\n",
              "  13414459319.245213,\n",
              "  13413716806.56978,\n",
              "  13413558986.083506,\n",
              "  13414591772.877508,\n",
              "  13417786904.68466,\n",
              "  13416091866.736794,\n",
              "  13415128027.150173,\n",
              "  13415510158.202538,\n",
              "  13413767291.541407,\n",
              "  13413374441.67751,\n",
              "  13414898479.656748,\n",
              "  13414324120.300808,\n",
              "  13413091761.930334,\n",
              "  13413139810.32526,\n",
              "  13412458586.47105,\n",
              "  13413637662.353865,\n",
              "  13414273244.390312,\n",
              "  13415207344.276817,\n",
              "  13414385603.764706,\n",
              "  13413653017.157093,\n",
              "  13413947771.364244,\n",
              "  13413393096.666204,\n",
              "  13414278743.754557,\n",
              "  13413416161.114649,\n",
              "  13412976628.897808,\n",
              "  13413179411.133564,\n",
              "  13414237849.659054,\n",
              "  13414990071.082815,\n",
              "  13415488586.644522,\n",
              "  13414390519.909573,\n",
              "  13414392497.280739,\n",
              "  13414329439.66782,\n",
              "  13415236270.446136,\n",
              "  13413985278.110266,\n",
              "  13413892085.842676,\n",
              "  13413118935.134487,\n",
              "  13416113865.84729,\n",
              "  13414714775.237831,\n",
              "  13413418081.085121,\n",
              "  13414387739.519262,\n",
              "  13414179235.048674,\n",
              "  13414089983.822838,\n",
              "  13414204006.4,\n",
              "  13416733892.414303,\n",
              "  13414882530.295732,\n",
              "  13414819512.60346,\n",
              "  13413920367.612457,\n",
              "  13414414354.424913,\n",
              "  13413666876.471512,\n",
              "  13415632311.599539,\n",
              "  13413932280.500114,\n",
              "  13412863344.025837,\n",
              "  13414060635.770243,\n",
              "  13413696520.740023,\n",
              "  13413685229.102654,\n",
              "  13413370915.904959,\n",
              "  13413423337.854671,\n",
              "  13414752865.439445,\n",
              "  13413997605.086044,\n",
              "  13413583330.354786,\n",
              "  13413263845.898039,\n",
              "  13413690566.894579,\n",
              "  13414440862.442446],\n",
              " 'val_mean_absolute_error': [91629.375,\n",
              "  91825.16,\n",
              "  91780.79,\n",
              "  91898.58,\n",
              "  91834.21,\n",
              "  91784.88,\n",
              "  91807.42,\n",
              "  91806.73,\n",
              "  91771.8,\n",
              "  91766.44,\n",
              "  91750.234,\n",
              "  91762.03,\n",
              "  91748.59,\n",
              "  91723.05,\n",
              "  91717.96,\n",
              "  91673.66,\n",
              "  91698.49,\n",
              "  91703.64,\n",
              "  91795.36,\n",
              "  91774.25,\n",
              "  91754.15,\n",
              "  91701.305,\n",
              "  91673.41,\n",
              "  91670.35,\n",
              "  91685.88,\n",
              "  91689.84,\n",
              "  91740.45,\n",
              "  91753.76,\n",
              "  91716.81,\n",
              "  91708.555,\n",
              "  91760.016,\n",
              "  91893.15,\n",
              "  91826.58,\n",
              "  91784.72,\n",
              "  91801.73,\n",
              "  91719.48,\n",
              "  91698.56,\n",
              "  91774.35,\n",
              "  91747.23,\n",
              "  91682.93,\n",
              "  91685.63,\n",
              "  91645.26,\n",
              "  91712.69,\n",
              "  91744.8,\n",
              "  91788.3,\n",
              "  91750.22,\n",
              "  91713.53,\n",
              "  91728.59,\n",
              "  91699.64,\n",
              "  91745.02,\n",
              "  91700.85,\n",
              "  91676.375,\n",
              "  91687.84,\n",
              "  91743.05,\n",
              "  91778.48,\n",
              "  91800.73,\n",
              "  91750.42,\n",
              "  91750.55,\n",
              "  91747.49,\n",
              "  91789.6,\n",
              "  91730.55,\n",
              "  91725.805,\n",
              "  91684.53,\n",
              "  91827.48,\n",
              "  91765.87,\n",
              "  91700.99,\n",
              "  91750.3,\n",
              "  91740.14,\n",
              "  91735.75,\n",
              "  91741.336,\n",
              "  91852.75,\n",
              "  91773.586,\n",
              "  91770.69,\n",
              "  91727.22,\n",
              "  91751.61,\n",
              "  91714.21,\n",
              "  91807.055,\n",
              "  91727.85,\n",
              "  91669.81,\n",
              "  91734.266,\n",
              "  91715.766,\n",
              "  91715.164,\n",
              "  91698.41,\n",
              "  91701.305,\n",
              "  91767.63,\n",
              "  91731.09,\n",
              "  91709.78,\n",
              "  91692.555,\n",
              "  91715.47,\n",
              "  91752.83]}"
            ]
          },
          "metadata": {
            "tags": []
          },
          "execution_count": 45
        }
      ]
    },
    {
      "cell_type": "code",
      "metadata": {
        "id": "LiiqGCWSNwxn",
        "colab_type": "code",
        "outputId": "d537267a-ad80-4584-c4b9-9ee916b458c7",
        "colab": {
          "base_uri": "https://localhost:8080/",
          "height": 34
        }
      },
      "source": [
        "history.history.keys()"
      ],
      "execution_count": 46,
      "outputs": [
        {
          "output_type": "execute_result",
          "data": {
            "text/plain": [
              "dict_keys(['loss', 'mean_absolute_error', 'val_loss', 'val_mean_absolute_error'])"
            ]
          },
          "metadata": {
            "tags": []
          },
          "execution_count": 46
        }
      ]
    },
    {
      "cell_type": "code",
      "metadata": {
        "id": "z0-xXJCjMVIB",
        "colab_type": "code",
        "outputId": "acbd87eb-9deb-43cd-df21-9edf6420a38b",
        "colab": {
          "base_uri": "https://localhost:8080/",
          "height": 487
        }
      },
      "source": [
        "pd.DataFrame(history.history).plot(figsize=(10, 8))\n",
        "plt.grid(True)\n",
        "plt.gca().set_ylim(90000, 95000)\n",
        "#save_fig(\"keras_learning_curves_plot\")\n",
        "plt.show()"
      ],
      "execution_count": 51,
      "outputs": [
        {
          "output_type": "display_data",
          "data": {
            "image/png": "[encoded data removed]",
            "text/plain": [
              "<Figure size 720x576 with 1 Axes>"
            ]
          },
          "metadata": {
            "tags": []
          }
        }
      ]
    },
    {
      "cell_type": "markdown",
      "metadata": {
        "id": "UhZE5s2pUeUA",
        "colab_type": "text"
      },
      "source": [
        "## Evaluo con el conjunto de datos de prueba"
      ]
    },
    {
      "cell_type": "code",
      "metadata": {
        "id": "uYYLW9ZrMYoQ",
        "colab_type": "code",
        "colab": {}
      },
      "source": [
        "Xtest, Ytest = pre_exploratorio_housing(Xtest,col_sal,col_num,col_cat,estra_num='median',estra_cat='most_frequent')\n",
        "\n",
        "#Categorizo\n",
        "codificador = OrdinalEncoder()\n",
        "Xtest['ocean_proximity'].value_counts()\n",
        "Xtest['ocean_proximity'] = codificador.fit_transform(Xtest[['ocean_proximity']])"
      ],
      "execution_count": 0,
      "outputs": []
    },
    {
      "cell_type": "code",
      "metadata": {
        "id": "cIz8uVRquitW",
        "colab_type": "code",
        "colab": {}
      },
      "source": [
        "X_test = Xtest\n",
        "y_test = Ytest"
      ],
      "execution_count": 0,
      "outputs": []
    },
    {
      "cell_type": "code",
      "metadata": {
        "id": "hGG7yWemNu2Q",
        "colab_type": "code",
        "outputId": "a80b2539-8a7d-4938-d1a9-f97789c41695",
        "colab": {
          "base_uri": "https://localhost:8080/",
          "height": 50
        }
      },
      "source": [
        "model.evaluate(Xtest, Ytest)"
      ],
      "execution_count": 54,
      "outputs": [
        {
          "output_type": "stream",
          "text": [
            "6192/6192 [==============================] - 0s 24us/sample - loss: 13030397666.2326 - mean_absolute_error: 90108.5234\n"
          ],
          "name": "stdout"
        },
        {
          "output_type": "execute_result",
          "data": {
            "text/plain": [
              "[13030397666.232557, 90108.52]"
            ]
          },
          "metadata": {
            "tags": []
          },
          "execution_count": 54
        }
      ]
    },
    {
      "cell_type": "code",
      "metadata": {
        "id": "e9DOyNwWuV_u",
        "colab_type": "code",
        "outputId": "6743a2a6-c9d1-41c4-e611-b1bc857171d2",
        "colab": {
          "base_uri": "https://localhost:8080/",
          "height": 67
        }
      },
      "source": [
        "X_new = X_test[:3]\n",
        "y_proba = model.predict(X_new)\n",
        "y_proba.round(2)"
      ],
      "execution_count": 55,
      "outputs": [
        {
          "output_type": "execute_result",
          "data": {
            "text/plain": [
              "array([[207914.77],\n",
              "       [207914.77],\n",
              "       [207914.77]], dtype=float32)"
            ]
          },
          "metadata": {
            "tags": []
          },
          "execution_count": 55
        }
      ]
    },
    {
      "cell_type": "code",
      "metadata": {
        "id": "lzXvZxC0ueUz",
        "colab_type": "code",
        "outputId": "743e671d-c0ab-464d-8cce-f764fe0943ca",
        "colab": {
          "base_uri": "https://localhost:8080/",
          "height": 67
        }
      },
      "source": [
        "y_pred = model.predict_classes(X_new)\n",
        "y_pred"
      ],
      "execution_count": 56,
      "outputs": [
        {
          "output_type": "execute_result",
          "data": {
            "text/plain": [
              "array([[1],\n",
              "       [1],\n",
              "       [1]], dtype=int32)"
            ]
          },
          "metadata": {
            "tags": []
          },
          "execution_count": 56
        }
      ]
    },
    {
      "cell_type": "code",
      "metadata": {
        "id": "hShuAYXVunHW",
        "colab_type": "code",
        "outputId": "2ff6d91c-41cc-406f-ef26-8e493a0ed5c3",
        "colab": {
          "base_uri": "https://localhost:8080/",
          "height": 84
        }
      },
      "source": [
        "y_new = y_test[:3]\n",
        "y_new"
      ],
      "execution_count": 57,
      "outputs": [
        {
          "output_type": "execute_result",
          "data": {
            "text/plain": [
              "2147      67300.0\n",
              "4862     175000.0\n",
              "12982    119800.0\n",
              "Name: median_house_value, dtype: float64"
            ]
          },
          "metadata": {
            "tags": []
          },
          "execution_count": 57
        }
      ]
    },
    {
      "cell_type": "code",
      "metadata": {
        "id": "W_JCc9xsurfu",
        "colab_type": "code",
        "colab": {}
      },
      "source": [
        "plt.figure(figsize=(7.2, 2.4))\n",
        "for index, image in enumerate(X_new):\n",
        "    plt.subplot(1, 3, index + 1)\n",
        "    plt.imshow(image, cmap='binary')\n",
        "    plt.axis('off')\n",
        "    plt.title(class_names[y_test[index]], fontsize=12)\n",
        "plt.subplots_adjust(wspace=0.2, hspace=0.5)\n",
        "#save_fig('fashion_mnist_images_plot', tight_layout=False)\n",
        "plt.show()"
      ],
      "execution_count": 0,
      "outputs": []
    }
  ]
}